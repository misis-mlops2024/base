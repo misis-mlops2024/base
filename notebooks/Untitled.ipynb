{
 "cells": [
  {
   "cell_type": "code",
   "execution_count": 1,
   "id": "61f29edf-663d-46cf-a829-0b296d170109",
   "metadata": {},
   "outputs": [],
   "source": [
    "import pandas as pd"
   ]
  },
  {
   "cell_type": "code",
   "execution_count": 2,
   "id": "74a6cbaa-faf4-4065-8bd6-faeab26cc2f1",
   "metadata": {},
   "outputs": [
    {
     "ename": "KeyboardInterrupt",
     "evalue": "",
     "output_type": "error",
     "traceback": [
      "\u001b[1;31m---------------------------------------------------------------------------\u001b[0m",
      "\u001b[1;31mKeyboardInterrupt\u001b[0m                         Traceback (most recent call last)",
      "Cell \u001b[1;32mIn[2], line 16\u001b[0m\n\u001b[0;32m     14\u001b[0m \u001b[38;5;28;01mif\u001b[39;00m \u001b[38;5;18m__name__\u001b[39m \u001b[38;5;241m==\u001b[39m \u001b[38;5;124m'\u001b[39m\u001b[38;5;124m__main__\u001b[39m\u001b[38;5;124m'\u001b[39m:\n\u001b[0;32m     15\u001b[0m     \u001b[38;5;28;01mwhile\u001b[39;00m \u001b[38;5;28;01mTrue\u001b[39;00m:\n\u001b[1;32m---> 16\u001b[0m         \u001b[43mprocess_request\u001b[49m\u001b[43m(\u001b[49m\u001b[43mrandom\u001b[49m\u001b[38;5;241;43m.\u001b[39;49m\u001b[43mrandom\u001b[49m\u001b[43m(\u001b[49m\u001b[43m)\u001b[49m\u001b[43m)\u001b[49m\n",
      "File \u001b[1;32m<decorator-gen-1>:2\u001b[0m, in \u001b[0;36mprocess_request\u001b[1;34m(t)\u001b[0m\n",
      "File \u001b[1;32mc:\\users\\anana\\appdata\\local\\programs\\python\\python39\\lib\\site-packages\\prometheus_client\\context_managers.py:80\u001b[0m, in \u001b[0;36mTimer.__call__.<locals>.wrapped\u001b[1;34m(func, *args, **kwargs)\u001b[0m\n\u001b[0;32m     76\u001b[0m \u001b[38;5;28;01mdef\u001b[39;00m \u001b[38;5;21mwrapped\u001b[39m(func, \u001b[38;5;241m*\u001b[39margs, \u001b[38;5;241m*\u001b[39m\u001b[38;5;241m*\u001b[39mkwargs):\n\u001b[0;32m     77\u001b[0m     \u001b[38;5;66;03m# Obtaining new instance of timer every time\u001b[39;00m\n\u001b[0;32m     78\u001b[0m     \u001b[38;5;66;03m# ensures thread safety and reentrancy.\u001b[39;00m\n\u001b[0;32m     79\u001b[0m     \u001b[38;5;28;01mwith\u001b[39;00m \u001b[38;5;28mself\u001b[39m\u001b[38;5;241m.\u001b[39m_new_timer():\n\u001b[1;32m---> 80\u001b[0m         \u001b[38;5;28;01mreturn\u001b[39;00m func(\u001b[38;5;241m*\u001b[39margs, \u001b[38;5;241m*\u001b[39m\u001b[38;5;241m*\u001b[39mkwargs)\n",
      "Cell \u001b[1;32mIn[2], line 12\u001b[0m, in \u001b[0;36mprocess_request\u001b[1;34m(t)\u001b[0m\n\u001b[0;32m      9\u001b[0m \u001b[38;5;129m@REQUEST_TIME\u001b[39m\u001b[38;5;241m.\u001b[39mtime()\n\u001b[0;32m     10\u001b[0m \u001b[38;5;28;01mdef\u001b[39;00m \u001b[38;5;21mprocess_request\u001b[39m(t):\n\u001b[0;32m     11\u001b[0m \u001b[38;5;250m    \u001b[39m\u001b[38;5;124;03m\"\"\"A dummy function that takes some time.\"\"\"\u001b[39;00m\n\u001b[1;32m---> 12\u001b[0m     \u001b[43mtime\u001b[49m\u001b[38;5;241;43m.\u001b[39;49m\u001b[43msleep\u001b[49m\u001b[43m(\u001b[49m\u001b[43mt\u001b[49m\u001b[43m)\u001b[49m\n",
      "\u001b[1;31mKeyboardInterrupt\u001b[0m: "
     ]
    }
   ],
   "source": [
    "from prometheus_client import Summary, \n",
    "import random\n",
    "import time\n",
    "\n",
    "# Create a metric to track time spent and requests made.\n",
    "REQUEST_TIME = Summary('request_processing_seconds', 'Time spent processing request')\n",
    "\n",
    "# Decorate function with metric.\n",
    "@REQUEST_TIME.time()\n",
    "def process_request(t):\n",
    "    \"\"\"A dummy function that takes some time.\"\"\"\n",
    "    time.sleep(t)\n",
    "\n",
    "if __name__ == '__main__':\n",
    "    while True:\n",
    "        pro\n",
    "        process_request(random.random())"
   ]
  },
  {
   "cell_type": "code",
   "execution_count": null,
   "id": "407038f9-67c0-4d44-af9a-421f65e64843",
   "metadata": {},
   "outputs": [],
   "source": []
  }
 ],
 "metadata": {
  "kernelspec": {
   "display_name": "Python 3 (ipykernel)",
   "language": "python",
   "name": "python3"
  },
  "language_info": {
   "codemirror_mode": {
    "name": "ipython",
    "version": 3
   },
   "file_extension": ".py",
   "mimetype": "text/x-python",
   "name": "python",
   "nbconvert_exporter": "python",
   "pygments_lexer": "ipython3",
   "version": "3.9.6"
  }
 },
 "nbformat": 4,
 "nbformat_minor": 5
}
